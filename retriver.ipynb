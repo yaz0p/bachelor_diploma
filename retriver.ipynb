{
 "cells": [
  {
   "cell_type": "code",
   "execution_count": 1,
   "metadata": {},
   "outputs": [
    {
     "data": {
      "text/plain": [
       "True"
      ]
     },
     "execution_count": 1,
     "metadata": {},
     "output_type": "execute_result"
    }
   ],
   "source": [
    "from langchain_community.vectorstores import FAISS\n",
    "from langchain.chains import RetrievalQA\n",
    "from langchain.text_splitter import RecursiveCharacterTextSplitter\n",
    "from langchain.document_loaders.text import TextLoader\n",
    "from langchain_community.embeddings.gigachat import GigaChatEmbeddings\n",
    "from langchain_community.chat_models import GigaChat\n",
    "from langchain.embeddings import HuggingFaceEmbeddings\n",
    "from typing import Any, Coroutine, List\n",
    "from dotenv import load_dotenv\n",
    "from itertools import chain\n",
    "from os import getenv\n",
    "\n",
    "load_dotenv()"
   ]
  },
  {
   "cell_type": "code",
   "execution_count": 2,
   "metadata": {},
   "outputs": [],
   "source": [
    "docs_list = [\"documents/about.txt\", \"documents/number_phones.txt\", \"documents/rectors.txt\", \"documents/iisigt.txt\", \"documents/checking.txt\"]\n",
    "loader = map(lambda x: TextLoader(file_path=x), docs_list)\n",
    "documents = list(map(lambda x: x.load(), loader))\n",
    "\n",
    "flattened_documents = list(chain.from_iterable(documents))"
   ]
  },
  {
   "cell_type": "code",
   "execution_count": 3,
   "metadata": {},
   "outputs": [],
   "source": [
    "class HuggingFaceE5Embeddings(HuggingFaceEmbeddings):\n",
    "    def embed_query(self, text: str) -> List[float]:\n",
    "        text = f\"query: {text}\"\n",
    "        return super().embed_query(text)\n",
    "\n",
    "    def embed_documents(self, texts: List[str]) -> List[List[float]]:\n",
    "        texts = [f\"passage: {text}\" for text in texts]\n",
    "        return super().embed_documents(texts)\n",
    "\n",
    "    async def aembed_query(self, text: str) -> Coroutine[Any, Any, List[float]]:\n",
    "        text = f\"query: {text}\"\n",
    "        return await super().aembed_query(text)\n",
    "\n",
    "    async def aembed_documents(\n",
    "        self, texts: List[str]\n",
    "    ) -> Coroutine[Any, Any, List[List[float]]]:\n",
    "        texts = [f\"passage: {text}\" for text in texts]\n",
    "        return await super().aembed_documents(texts)\n"
   ]
  },
  {
   "cell_type": "code",
   "execution_count": 4,
   "metadata": {},
   "outputs": [
    {
     "name": "stderr",
     "output_type": "stream",
     "text": [
      "/home/yazop/Desktop/bachelor_diploma/venv/lib/python3.11/site-packages/tqdm/auto.py:21: TqdmWarning: IProgress not found. Please update jupyter and ipywidgets. See https://ipywidgets.readthedocs.io/en/stable/user_install.html\n",
      "  from .autonotebook import tqdm as notebook_tqdm\n"
     ]
    }
   ],
   "source": [
    "embedding = HuggingFaceE5Embeddings(model_name=\"intfloat/multilingual-e5-base\")\n"
   ]
  },
  {
   "cell_type": "code",
   "execution_count": 8,
   "metadata": {},
   "outputs": [],
   "source": [
    "#embedding = GigaChatEmbeddings(credentials=getenv(\"WORK_CREDENTIAL\"), verify_ssl_certs=False, scope=getenv(\"WORK_SCOPE\"))"
   ]
  },
  {
   "cell_type": "code",
   "execution_count": 9,
   "metadata": {},
   "outputs": [
    {
     "name": "stderr",
     "output_type": "stream",
     "text": [
      "'profanity' field is deprecated. Use 'profanity_check' instead.\n"
     ]
    }
   ],
   "source": [
    "llm = GigaChat(credentials=getenv(\"CREDENTIAL\"), verify_ssl_certs=False, scope=getenv(\"SCOPE\"), profanity=False)"
   ]
  },
  {
   "cell_type": "code",
   "execution_count": 10,
   "metadata": {},
   "outputs": [],
   "source": [
    "db = FAISS.from_documents(\n",
    "    flattened_documents,\n",
    "    embedding\n",
    ")"
   ]
  },
  {
   "cell_type": "code",
   "execution_count": 17,
   "metadata": {},
   "outputs": [],
   "source": [
    "question = \"К кому обратиться при возникших вопросах с заселением в общежитие?\""
   ]
  },
  {
   "cell_type": "code",
   "execution_count": 18,
   "metadata": {},
   "outputs": [
    {
     "data": {
      "text/plain": [
       "[Document(page_content='ПОРЯДОК ЗАСЕЛЕНИЯ ПЕРВОКУРСНИКОВ В ОБЩЕЖИТИЕ\\n\\n1. Подготовьте документы, необходимые для поселения:\\n\\n-     Паспорт;\\n\\n-     Сертификат о профилактических прививках;\\n\\n-     Результат флюорографического обследования за последний год;\\n\\n-     Медицинская справка 086/у;\\n\\n-     Для несовершеннолетних первокурсников (в случае, если первокурсник приезжает самостоятельно) – нотариально заверенное согласие родителей на право заключения договора найма жилого помещения в общежитиях РГГМУ и право оформления временной регистрации.\\n\\n2. Ознакомьтесь со стоимостью проживания:\\n\\n-   В настоящий момент общежитие для студентов бюджетной основы стоит 1525 и в районе 4645 для контрактной основы.\\n\\n3. Ознакомьтесь со сроками поселения\\n\\nПоселение первокурсников 2023 года начнется с 23.08.2023. Оформление документов и заключение договоров возможно по будним дням с 10.00 до 17.00.\\n\\n4. Ознакомьтесь с распределением первокурсников по общежитиям\\n\\n5. Явитесь в общежитие, согласно распределению\\n\\n6. Оформите необходимые документы, заключите договор и оплатите обучение\\n\\nДокументы, необходимые для поселения - ордер на заселение, бланки договоров найма с актом приема-передачи вы сможете получить у коменданта общежития. После оформления всех необходимых документов вы получите квитанцию для оплаты проживания:\\n\\n-     Обучающиеся 1 курса, зачисленные на бюджетную форму обучения, при заключении договора найма жилого помещения в общежитии РГГМУ осуществляют единовременную оплату за 6 месяцев проживания;\\n\\n-     Обучающиеся 1 курса, зачисленные на контрактную форму обучения осуществляют единовременную оплату за 4 месяца проживания.\\n\\nОплата осуществляется в отделении Сбербанка или банка Санкт –Петербург, возможна оплата онлайн.\\n \\n\\nПри заселении в общежитие в течение двух рабочих дней необходимо пройти профилактический медицинский осмотр с целью определения группы здоровья для занятий физической культурой.\\n\\nC 21 по 25 августа 2023 года с 9:00 до 15:00 для заселения в общежития будет проходить прием медсестры в медицинском кабинете по адресу: СПб, ул. Стахановцев  д.17.\\n\\nC 28 августа  профилактический медицинский осмотр будет производиться по адресу: г. Санкт-Петербург, ул. Кузнецовская, д.9 (СПбГБУЗ \"Городская поликлиника №75\").\\n\\n \\n\\nПри прохождении медицинского осмотра, с целью определения медицинской группы здоровья для занятий физической культурой, при себе необходимо иметь следующие документы:\\n\\n-     Паспорт.\\n\\n-     Полис ОМС.\\n\\n-     Форма 086/у «Медицинская справка» (врачебное профессиональное заключение) и (или) медицинские заключения об имеющихся хронических заболеваниях.\\n\\n-     Результат флюорографического обследования за последний год;\\n\\n-     Прививочный сертификат из медицинской организации, где обслуживался обучающийся или медицинскую форму 063/у\\n\\n-     СНИЛС.\\n\\n \\n\\nОбращаем внимание, что допуск к занятиям физической культурой производится только при прохождении медицинского осмотра.\\n\\n \\n\\nПо вопросам, связанным с поселением в общежитие, необходимо обращаться к начальнику Управления по работе с общежитиями Тихомирову Сергею Николаевичу,\\nтел.: 8 (951) 662-38-82 в рабочее время - с 10.00 до 17.00.', metadata={'source': 'documents/checking.txt'}),\n",
       " Document(page_content='Номера телефонов РГГМУ\\nНомер телефона Общий отдел 8(812) 633-01-82\\nНомер телефона Приемная комиссия 8(812) 372-50-91\\nНомер телефона Управление кадров(Студенческий отдел) 8(812) 409-13-49\\nНомер телефона Управление кадров(Учетный отдел) 8(812) 372-50-93\\nНомер телефона Управление бухгалтерского учета 8(812) 633-01-70\\nНомер телефона Департамент науки, технологий и инноваций 8(812) 633-01-92\\nНомер телефона Бюро пропусков 8(812) 633-01-87\\nНомер телефона Учебно-методическое управление 8(812) 633-01-83\\nНомер телефона Управление подготовки кадров высшей квалификации (аспирантура) 8(812) 633-01-83\\nНомер телефона Отдел закупок 8(812) 409-13-45\\nНомер телефона Института информационных систем и геотехнологий(ИИСИГТ) 8(812) 633-0186\\nНомер телефона Института «Полярная академия» 8(812) 409-13-50\\nНомер телефона Метеорологический факультета 8(812) 633-01-73\\nНомер телефона Института гидрологии и океанологии:\\nНомер телефона Отделение гидрологии 8(812) 633-01-75\\nНомер телефона Отделение океанологии 8(812) 372-50-81\\nНомер телефона Экологический факультета 8(812) 409-13-52\\nНомер телефона Института морского права, экономики и управления 8(812) 633-01-79', metadata={'source': 'documents/number_phones.txt'})]"
      ]
     },
     "execution_count": 18,
     "metadata": {},
     "output_type": "execute_result"
    }
   ],
   "source": [
    "db.similarity_search(question, k=2)\n"
   ]
  },
  {
   "cell_type": "code",
   "execution_count": 19,
   "metadata": {},
   "outputs": [],
   "source": [
    "qa_chain = RetrievalQA.from_chain_type(llm=llm, retriever=db.as_retriever())"
   ]
  },
  {
   "cell_type": "code",
   "execution_count": 20,
   "metadata": {},
   "outputs": [
    {
     "data": {
      "text/plain": [
       "{'query': 'К кому обратиться при возникших вопросах с заселением в общежитие?',\n",
       " 'result': 'При возникших вопросах с заселением в общежитие рекомендуется обратиться к начальнику Управления по работе с общежитиями Тихомирову Сергею Николаевичу. Его контактный телефон указан в предоставленной информации.'}"
      ]
     },
     "execution_count": 20,
     "metadata": {},
     "output_type": "execute_result"
    }
   ],
   "source": [
    "qa_chain({\"query\": question})"
   ]
  }
 ],
 "metadata": {
  "kernelspec": {
   "display_name": "venv",
   "language": "python",
   "name": "python3"
  },
  "language_info": {
   "codemirror_mode": {
    "name": "ipython",
    "version": 3
   },
   "file_extension": ".py",
   "mimetype": "text/x-python",
   "name": "python",
   "nbconvert_exporter": "python",
   "pygments_lexer": "ipython3",
   "version": "3.11.8"
  }
 },
 "nbformat": 4,
 "nbformat_minor": 2
}
